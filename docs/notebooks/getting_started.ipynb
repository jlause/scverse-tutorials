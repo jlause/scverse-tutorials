{
 "cells": [
  {
   "cell_type": "code",
   "execution_count": 1,
   "id": "6c06a631-374a-4a13-8da9-92577c70e51c",
   "metadata": {},
   "outputs": [],
   "source": [
    "import numpy as np\n",
    "import anndata\n",
    "import scanpy as sc\n",
    "import mudata as md\n",
    "from scipy import sparse"
   ]
  },
  {
   "cell_type": "code",
   "execution_count": 2,
   "id": "6b436230-6b3a-4472-9f10-b0801556a8d0",
   "metadata": {},
   "outputs": [],
   "source": [
    "import matplotlib.pyplot as plt"
   ]
  },
  {
   "cell_type": "markdown",
   "id": "3abce77a-3698-4c96-8641-91d761ee484c",
   "metadata": {},
   "source": [
    "# Getting started with the `anndata` and `mudata` packages"
   ]
  },
  {
   "cell_type": "markdown",
   "id": "8d162005-d62e-436f-a531-6c36aada4783",
   "metadata": {},
   "source": [
    "Suppose a colleague of yours did some single cell data analysis in Python and Scanpy, saving the results in an `AnnData` object and sending it to you in a `*.h5ad` file. This tutorial will walk you through that file and help you explore its structure and content --- even if you are new to anndata, mudata, Scanpy or Python.\n",
    "\n",
    "In this tutorial, we will refer to anndata and mudata as the packages, and to their data structures as `AnnData` and `MuData` objects, respectively."
   ]
  },
  {
   "cell_type": "markdown",
   "id": "6771e977-ba4b-4843-97a9-00c4f9c1c02c",
   "metadata": {
    "tags": []
   },
   "source": [
    "## Exploring the `AnnData` object"
   ]
  },
  {
   "cell_type": "markdown",
   "id": "91cb735c-de5a-443d-80f7-cb3ca64f4a9e",
   "metadata": {},
   "source": [
    "We will use a preprocessed PBMC data set for our example. It comes from the `scanpy.dataset` module, and the following line downloads the file `pbmc3k_processed.h5ad` into `./data` and loads it as `AnnData` object into python."
   ]
  },
  {
   "cell_type": "code",
   "execution_count": 3,
   "id": "3c28d3b3-d8da-425b-9826-17405b7f82f6",
   "metadata": {},
   "outputs": [],
   "source": [
    "adata = sc.datasets.pbmc3k_processed()\n",
    "adata = adata.raw.to_adata()\n",
    "adata.layers[\"raw\"] = sparse.csr_matrix((np.exp(adata.X.A) - 1).astype(int))\n",
    "adata.X = sc.pp.log1p(sc.pp.normalize_total(adata, layer=\"raw\", inplace=False)[\"X\"])"
   ]
  },
  {
   "cell_type": "markdown",
   "id": "cf0da32f-5e03-43a5-8e8f-d6f82b9ba15d",
   "metadata": {},
   "source": [
    "(To load any `*.h5ad`file that already is on you machine, you would use `adata = anndata.read_h5ad('path/to/file.h5ad')`)"
   ]
  },
  {
   "cell_type": "markdown",
   "id": "45f68e54-0708-4f29-b6aa-e962c539155a",
   "metadata": {},
   "source": [
    "Let's have a first look at the `AnnData` object:"
   ]
  },
  {
   "cell_type": "code",
   "execution_count": 4,
   "id": "c38f8888-05e9-414b-9c11-2e31fcca575e",
   "metadata": {},
   "outputs": [
    {
     "data": {
      "text/plain": [
       "AnnData object with n_obs × n_vars = 2638 × 13714\n",
       "    obs: 'n_genes', 'percent_mito', 'n_counts', 'louvain'\n",
       "    var: 'n_cells'\n",
       "    uns: 'draw_graph', 'louvain', 'louvain_colors', 'neighbors', 'pca', 'rank_genes_groups'\n",
       "    obsm: 'X_pca', 'X_tsne', 'X_umap', 'X_draw_graph_fr'\n",
       "    layers: 'raw'\n",
       "    obsp: 'distances', 'connectivities'"
      ]
     },
     "execution_count": 4,
     "metadata": {},
     "output_type": "execute_result"
    }
   ],
   "source": [
    "adata"
   ]
  },
  {
   "cell_type": "markdown",
   "id": "38597996-c348-4768-ac4a-98c056ba0e96",
   "metadata": {},
   "source": [
    "This output tells us some general things about the data: its shape (2638 cells, 13714 genes) and which metadata fields and subfields it has. We will go through those one-by-one - let's start with the most important one:"
   ]
  },
  {
   "cell_type": "markdown",
   "id": "a5d2154e-a632-4b28-b5af-2169a78e2e90",
   "metadata": {
    "tags": []
   },
   "source": [
    "### The *active* data matrix in `adata.X`"
   ]
  },
  {
   "cell_type": "markdown",
   "id": "3a22e18e-c775-4693-a7bf-9dbfb9261ae2",
   "metadata": {},
   "source": [
    "![Active data matrix X](img/X.png \"Active data matrix X\")"
   ]
  },
  {
   "cell_type": "markdown",
   "id": "bd17ddf2-6000-4ef3-a779-30a1408da10c",
   "metadata": {},
   "source": [
    "The `adata.X` slot holds the data matrix that we are actively using for analysis (e.g. for plotting gene expression values). That also means that most functions will use this data as input by default, unless explicitly told otherwise.\n",
    "\n",
    "In this example, `adata.X` holds the matrix of normalized and log(1+x)-transformed mRNA counts. Its **rows are cells** (or observations), and its  **columns are genes** (or variables)."
   ]
  },
  {
   "cell_type": "code",
   "execution_count": 5,
   "id": "1e4bf47d-4927-40d5-b8d3-f47a9a7ce897",
   "metadata": {},
   "outputs": [
    {
     "data": {
      "text/plain": [
       "<2638x13714 sparse matrix of type '<class 'numpy.float32'>'\n",
       "\twith 2238732 stored elements in Compressed Sparse Row format>"
      ]
     },
     "execution_count": 5,
     "metadata": {},
     "output_type": "execute_result"
    }
   ],
   "source": [
    "adata.X"
   ]
  },
  {
   "cell_type": "markdown",
   "id": "cd1bc809-b8f6-48a8-9a2b-626644f62799",
   "metadata": {},
   "source": [
    "We see that the data matrix is stored in the [scipy sparse matrix format](https://docs.scipy.org/doc/scipy/reference/sparse.html) for compression. In brief, that means that we only store the non-zero expression values and their coordinates/indices in the data matrix explicitly, knowing that all other values are zeros. This saves a lot of RAM and makes processing faster, but also changes how we can interact with this object compared to a \"normal\" dense array. For an overview of the functions that you can apply directly on sparse arrays, check the [scipy.sparse docs for the csr array](https://docs.scipy.org/doc/scipy/reference/generated/scipy.sparse.csr_array.html#scipy.sparse.csr_array). \n",
    "\n",
    "Here are some examples to show how the sparse format works:"
   ]
  },
  {
   "cell_type": "code",
   "execution_count": 6,
   "id": "e5ab77ab-6c9b-483e-8c95-cd3f529a6bef",
   "metadata": {},
   "outputs": [
    {
     "name": "stdout",
     "output_type": "stream",
     "text": [
      "[0.6496621 0.6496621 1.0402015 ... 0.7506172 0.7506172 1.4713064]\n",
      "[   29    73    80 ... 13702 13705 13708]\n",
      "0.06188183317756446\n"
     ]
    }
   ],
   "source": [
    "# look at the non-zero values in the data\n",
    "print(adata.X.data)\n",
    "# look at their indices / positions in the data matrix\n",
    "print(adata.X.indices)\n",
    "# compute the fraction of non-zero entries\n",
    "print(adata.X.nnz / np.product(adata.X.shape))"
   ]
  },
  {
   "cell_type": "markdown",
   "id": "c32fd4d1-811d-465e-bada-ed8c617107a9",
   "metadata": {},
   "source": [
    "### Alternative versions of the active data in `layers`"
   ]
  },
  {
   "cell_type": "markdown",
   "id": "06ef75d0-a17e-4fc0-b427-485d5d0a36a8",
   "metadata": {},
   "source": [
    "![Additional data layers with the same shape as X](img/layers.png \"Additional data layers with the same shape as X\")"
   ]
  },
  {
   "cell_type": "markdown",
   "id": "4011d8d3-ae58-4963-9431-1b37e8168f55",
   "metadata": {},
   "source": [
    "The data representation that we want to use mostly for plotting and processing lives in `adata.X`, e.g. the normalized counts. In addition to that, we often want to keep additional versions of our data around, e.g. the raw counts. These versions must have the exact same shape as `adata.X` and can be found in `layers`. Technically, `layers` is a [Python dictionary](https://docs.python.org/3/tutorial/datastructures.html#dictionaries) and stores each layer under a separate key."
   ]
  },
  {
   "cell_type": "code",
   "execution_count": 7,
   "id": "731e14be-0207-40e3-a12f-57f6050aa1a6",
   "metadata": {},
   "outputs": [
    {
     "data": {
      "text/plain": [
       "Layers with keys: raw"
      ]
     },
     "execution_count": 7,
     "metadata": {},
     "output_type": "execute_result"
    }
   ],
   "source": [
    "adata.layers"
   ]
  },
  {
   "cell_type": "markdown",
   "id": "88d98d01-7726-4df4-a791-5df5def933ce",
   "metadata": {},
   "source": [
    "Our data only has a single additional layer, the raw counts, accessible via the layer key `'raw'`:"
   ]
  },
  {
   "cell_type": "code",
   "execution_count": 8,
   "id": "dc1fa576-38f7-4af9-9495-3e03ec3b98e4",
   "metadata": {},
   "outputs": [
    {
     "data": {
      "text/plain": [
       "<2638x13714 sparse matrix of type '<class 'numpy.int64'>'\n",
       "\twith 2238732 stored elements in Compressed Sparse Row format>"
      ]
     },
     "execution_count": 8,
     "metadata": {},
     "output_type": "execute_result"
    }
   ],
   "source": [
    "adata.layers[\"raw\"]"
   ]
  },
  {
   "cell_type": "markdown",
   "id": "e87bb2d1-219e-46ac-b00a-2bafbd7291d6",
   "metadata": {},
   "source": [
    "Its also a sparse matrix with the same shape as the active data in `adata.X`, but with integer values:"
   ]
  },
  {
   "cell_type": "code",
   "execution_count": 9,
   "id": "bea90a72-6183-419b-bbb0-1cd8df65ed3b",
   "metadata": {},
   "outputs": [
    {
     "data": {
      "text/plain": [
       "array([1, 1, 2, ..., 1, 1, 3])"
      ]
     },
     "execution_count": 9,
     "metadata": {},
     "output_type": "execute_result"
    }
   ],
   "source": [
    "adata.layers[\"raw\"].data"
   ]
  },
  {
   "cell_type": "markdown",
   "id": "34109373-d262-46c7-9304-612e50ce1c29",
   "metadata": {},
   "source": [
    "Now let's add a new layer, for example \"counts per million\"-normalized counts. We can compute it from the `raw` layer and store it in `layers` with a new name:"
   ]
  },
  {
   "cell_type": "code",
   "execution_count": 10,
   "id": "e585833f-465d-46e1-9cf7-7f1c135e827e",
   "metadata": {},
   "outputs": [
    {
     "name": "stdout",
     "output_type": "stream",
     "text": [
      "Layers with keys: raw, counts_per_million\n"
     ]
    }
   ],
   "source": [
    "# copy raw counts to new layer\n",
    "adata.layers[\"counts_per_million\"] = adata.layers[\"raw\"].copy()\n",
    "# normalize the new layer to counts-per-million\n",
    "sc.pp.normalize_total(adata, target_sum=10**6, layer=\"counts_per_million\")\n",
    "print(adata.layers)"
   ]
  },
  {
   "cell_type": "markdown",
   "id": "a83cc502-0568-452f-92ba-a66aa9e5477f",
   "metadata": {},
   "source": [
    "Also note that we had to explicitly tell the normalization function from Scanpy to use the new `counts_per_million` as input and output!"
   ]
  },
  {
   "cell_type": "markdown",
   "id": "bc4b70d0-08a8-4100-b67d-9927bf69b194",
   "metadata": {
    "tags": []
   },
   "source": [
    "### Simple annotations for cells and genes in `obs` and `var`"
   ]
  },
  {
   "cell_type": "markdown",
   "id": "2c75ccd0-7243-4f01-b4b1-3b090a17dcaf",
   "metadata": {},
   "source": [
    "We usually want to store annotations for each cell and gene in `adata.X`. For cells, this can be the cluster assignments, batch IDs or a quality metric; for genes, it might be the gene name, ensembl ID or some measure of variance. \n",
    "\n",
    "In `AnnData` objects, this information lives in `adata.obs` for cell annotations - each of its rows correspond to a row / cell in `adata.X`. Similarly, `var` holds the gene annotations."
   ]
  },
  {
   "cell_type": "markdown",
   "id": "73756a11-8ade-49bc-83c7-9863af3a2fd6",
   "metadata": {},
   "source": [
    "![Simple annotations for cells and genes](img/obsvar.png \"Simple annotations for cells and genes in `obs` and `var`\")"
   ]
  },
  {
   "cell_type": "code",
   "execution_count": 11,
   "id": "b0f5d4ed-ad01-4b11-a249-351ba016735b",
   "metadata": {},
   "outputs": [
    {
     "data": {
      "text/html": [
       "<div>\n",
       "<style scoped>\n",
       "    .dataframe tbody tr th:only-of-type {\n",
       "        vertical-align: middle;\n",
       "    }\n",
       "\n",
       "    .dataframe tbody tr th {\n",
       "        vertical-align: top;\n",
       "    }\n",
       "\n",
       "    .dataframe thead th {\n",
       "        text-align: right;\n",
       "    }\n",
       "</style>\n",
       "<table border=\"1\" class=\"dataframe\">\n",
       "  <thead>\n",
       "    <tr style=\"text-align: right;\">\n",
       "      <th></th>\n",
       "      <th>n_genes</th>\n",
       "      <th>percent_mito</th>\n",
       "      <th>n_counts</th>\n",
       "      <th>louvain</th>\n",
       "    </tr>\n",
       "    <tr>\n",
       "      <th>index</th>\n",
       "      <th></th>\n",
       "      <th></th>\n",
       "      <th></th>\n",
       "      <th></th>\n",
       "    </tr>\n",
       "  </thead>\n",
       "  <tbody>\n",
       "    <tr>\n",
       "      <th>AAACATACAACCAC-1</th>\n",
       "      <td>781</td>\n",
       "      <td>0.030178</td>\n",
       "      <td>2419.0</td>\n",
       "      <td>CD4 T cells</td>\n",
       "    </tr>\n",
       "    <tr>\n",
       "      <th>AAACATTGAGCTAC-1</th>\n",
       "      <td>1352</td>\n",
       "      <td>0.037936</td>\n",
       "      <td>4903.0</td>\n",
       "      <td>B cells</td>\n",
       "    </tr>\n",
       "    <tr>\n",
       "      <th>AAACATTGATCAGC-1</th>\n",
       "      <td>1131</td>\n",
       "      <td>0.008897</td>\n",
       "      <td>3147.0</td>\n",
       "      <td>CD4 T cells</td>\n",
       "    </tr>\n",
       "    <tr>\n",
       "      <th>AAACCGTGCTTCCG-1</th>\n",
       "      <td>960</td>\n",
       "      <td>0.017431</td>\n",
       "      <td>2639.0</td>\n",
       "      <td>CD14+ Monocytes</td>\n",
       "    </tr>\n",
       "    <tr>\n",
       "      <th>AAACCGTGTATGCG-1</th>\n",
       "      <td>522</td>\n",
       "      <td>0.012245</td>\n",
       "      <td>980.0</td>\n",
       "      <td>NK cells</td>\n",
       "    </tr>\n",
       "    <tr>\n",
       "      <th>...</th>\n",
       "      <td>...</td>\n",
       "      <td>...</td>\n",
       "      <td>...</td>\n",
       "      <td>...</td>\n",
       "    </tr>\n",
       "    <tr>\n",
       "      <th>TTTCGAACTCTCAT-1</th>\n",
       "      <td>1155</td>\n",
       "      <td>0.021104</td>\n",
       "      <td>3459.0</td>\n",
       "      <td>CD14+ Monocytes</td>\n",
       "    </tr>\n",
       "    <tr>\n",
       "      <th>TTTCTACTGAGGCA-1</th>\n",
       "      <td>1227</td>\n",
       "      <td>0.009294</td>\n",
       "      <td>3443.0</td>\n",
       "      <td>B cells</td>\n",
       "    </tr>\n",
       "    <tr>\n",
       "      <th>TTTCTACTTCCTCG-1</th>\n",
       "      <td>622</td>\n",
       "      <td>0.021971</td>\n",
       "      <td>1684.0</td>\n",
       "      <td>B cells</td>\n",
       "    </tr>\n",
       "    <tr>\n",
       "      <th>TTTGCATGAGAGGC-1</th>\n",
       "      <td>454</td>\n",
       "      <td>0.020548</td>\n",
       "      <td>1022.0</td>\n",
       "      <td>B cells</td>\n",
       "    </tr>\n",
       "    <tr>\n",
       "      <th>TTTGCATGCCTCAC-1</th>\n",
       "      <td>724</td>\n",
       "      <td>0.008065</td>\n",
       "      <td>1984.0</td>\n",
       "      <td>CD4 T cells</td>\n",
       "    </tr>\n",
       "  </tbody>\n",
       "</table>\n",
       "<p>2638 rows × 4 columns</p>\n",
       "</div>"
      ],
      "text/plain": [
       "                  n_genes  percent_mito  n_counts          louvain\n",
       "index                                                             \n",
       "AAACATACAACCAC-1      781      0.030178    2419.0      CD4 T cells\n",
       "AAACATTGAGCTAC-1     1352      0.037936    4903.0          B cells\n",
       "AAACATTGATCAGC-1     1131      0.008897    3147.0      CD4 T cells\n",
       "AAACCGTGCTTCCG-1      960      0.017431    2639.0  CD14+ Monocytes\n",
       "AAACCGTGTATGCG-1      522      0.012245     980.0         NK cells\n",
       "...                   ...           ...       ...              ...\n",
       "TTTCGAACTCTCAT-1     1155      0.021104    3459.0  CD14+ Monocytes\n",
       "TTTCTACTGAGGCA-1     1227      0.009294    3443.0          B cells\n",
       "TTTCTACTTCCTCG-1      622      0.021971    1684.0          B cells\n",
       "TTTGCATGAGAGGC-1      454      0.020548    1022.0          B cells\n",
       "TTTGCATGCCTCAC-1      724      0.008065    1984.0      CD4 T cells\n",
       "\n",
       "[2638 rows x 4 columns]"
      ]
     },
     "execution_count": 11,
     "metadata": {},
     "output_type": "execute_result"
    }
   ],
   "source": [
    "adata.obs"
   ]
  },
  {
   "cell_type": "markdown",
   "id": "7dccdd3f-0796-4a64-9437-add6ff36d47b",
   "metadata": {},
   "source": [
    "This table is a [Pandas Data Frame](https://pandas.pydata.org/). We can see from its columns that we currently have four cell annotations:\n",
    "- the number of genes per cell\n",
    "- fraction of ćounts from mitochondrial genes in each cell (a quality metric)\n",
    "- total counts per cell\n",
    "- cluster assignment of a louvain clustering\n",
    "\n",
    "All of these annotations are one-dimensional - they contain a single number or string per cell. Also, each cell is uniquely identified by the index of the table - in this case, the cell barcoding sequence (more about indexing in the next section)."
   ]
  },
  {
   "cell_type": "markdown",
   "id": "3f15d76a-ec42-418d-bf73-88c3c34a69f2",
   "metadata": {},
   "source": [
    "To get a list of all cell annotations in the `obs` columns, you can use"
   ]
  },
  {
   "cell_type": "code",
   "execution_count": 12,
   "id": "cf294fa2-65ef-4bbd-a0c5-319c823caeb8",
   "metadata": {},
   "outputs": [
    {
     "data": {
      "text/plain": [
       "['n_genes', 'percent_mito', 'n_counts', 'louvain']"
      ]
     },
     "execution_count": 12,
     "metadata": {},
     "output_type": "execute_result"
    }
   ],
   "source": [
    "adata.obs_keys()"
   ]
  },
  {
   "cell_type": "markdown",
   "id": "256c32a4-efda-4cf8-9a3c-c94bb927ce2b",
   "metadata": {},
   "source": [
    "To access a specific column of the `obs` data frame, we can simply use its column name:"
   ]
  },
  {
   "cell_type": "code",
   "execution_count": 13,
   "id": "813dbc8c-7f46-4ab1-81b5-c063bffdc407",
   "metadata": {},
   "outputs": [
    {
     "data": {
      "text/plain": [
       "index\n",
       "AAACATACAACCAC-1        CD4 T cells\n",
       "AAACATTGAGCTAC-1            B cells\n",
       "AAACATTGATCAGC-1        CD4 T cells\n",
       "AAACCGTGCTTCCG-1    CD14+ Monocytes\n",
       "AAACCGTGTATGCG-1           NK cells\n",
       "                         ...       \n",
       "TTTCGAACTCTCAT-1    CD14+ Monocytes\n",
       "TTTCTACTGAGGCA-1            B cells\n",
       "TTTCTACTTCCTCG-1            B cells\n",
       "TTTGCATGAGAGGC-1            B cells\n",
       "TTTGCATGCCTCAC-1        CD4 T cells\n",
       "Name: louvain, Length: 2638, dtype: category\n",
       "Categories (8, object): ['CD4 T cells', 'CD14+ Monocytes', 'B cells', 'CD8 T cells', 'NK cells', 'FCGR3A+ Monocytes', 'Dendritic cells', 'Megakaryocytes']"
      ]
     },
     "execution_count": 13,
     "metadata": {},
     "output_type": "execute_result"
    }
   ],
   "source": [
    "adata.obs[\"louvain\"]"
   ]
  },
  {
   "cell_type": "markdown",
   "id": "a0b7e5c5-b4e4-48f3-b381-c60c76973984",
   "metadata": {},
   "source": [
    "Now, we can directly interact with these annotations, e.g. count the numbers of B cells in the data:"
   ]
  },
  {
   "cell_type": "code",
   "execution_count": 14,
   "id": "e6cb4c7a-ff09-4e26-a3e0-868621609c10",
   "metadata": {},
   "outputs": [
    {
     "name": "stdout",
     "output_type": "stream",
     "text": [
      "342\n"
     ]
    }
   ],
   "source": [
    "print(sum(adata.obs[\"louvain\"] == \"B cells\"))"
   ]
  },
  {
   "cell_type": "markdown",
   "id": "82c5b082-1bad-4eb8-a973-841d418b47fc",
   "metadata": {},
   "source": [
    "To add a new cell annotations, we simply add a new column to the `obs` data frame.\n",
    "\n",
    "For example, if we want to keep track of low-quality cells with a high mitochondrial gene count fraction, we can do the following to mark all cells above a certain threshold:"
   ]
  },
  {
   "cell_type": "code",
   "execution_count": 15,
   "id": "55450943-a9d5-4334-9f3c-ee2c25c76be5",
   "metadata": {},
   "outputs": [
    {
     "data": {
      "text/html": [
       "<div>\n",
       "<style scoped>\n",
       "    .dataframe tbody tr th:only-of-type {\n",
       "        vertical-align: middle;\n",
       "    }\n",
       "\n",
       "    .dataframe tbody tr th {\n",
       "        vertical-align: top;\n",
       "    }\n",
       "\n",
       "    .dataframe thead th {\n",
       "        text-align: right;\n",
       "    }\n",
       "</style>\n",
       "<table border=\"1\" class=\"dataframe\">\n",
       "  <thead>\n",
       "    <tr style=\"text-align: right;\">\n",
       "      <th></th>\n",
       "      <th>n_genes</th>\n",
       "      <th>percent_mito</th>\n",
       "      <th>n_counts</th>\n",
       "      <th>louvain</th>\n",
       "      <th>is_low_quality</th>\n",
       "    </tr>\n",
       "    <tr>\n",
       "      <th>index</th>\n",
       "      <th></th>\n",
       "      <th></th>\n",
       "      <th></th>\n",
       "      <th></th>\n",
       "      <th></th>\n",
       "    </tr>\n",
       "  </thead>\n",
       "  <tbody>\n",
       "    <tr>\n",
       "      <th>AAACATACAACCAC-1</th>\n",
       "      <td>781</td>\n",
       "      <td>0.030178</td>\n",
       "      <td>2419.0</td>\n",
       "      <td>CD4 T cells</td>\n",
       "      <td>True</td>\n",
       "    </tr>\n",
       "    <tr>\n",
       "      <th>AAACATTGAGCTAC-1</th>\n",
       "      <td>1352</td>\n",
       "      <td>0.037936</td>\n",
       "      <td>4903.0</td>\n",
       "      <td>B cells</td>\n",
       "      <td>True</td>\n",
       "    </tr>\n",
       "    <tr>\n",
       "      <th>AAACATTGATCAGC-1</th>\n",
       "      <td>1131</td>\n",
       "      <td>0.008897</td>\n",
       "      <td>3147.0</td>\n",
       "      <td>CD4 T cells</td>\n",
       "      <td>False</td>\n",
       "    </tr>\n",
       "    <tr>\n",
       "      <th>AAACCGTGCTTCCG-1</th>\n",
       "      <td>960</td>\n",
       "      <td>0.017431</td>\n",
       "      <td>2639.0</td>\n",
       "      <td>CD14+ Monocytes</td>\n",
       "      <td>False</td>\n",
       "    </tr>\n",
       "    <tr>\n",
       "      <th>AAACCGTGTATGCG-1</th>\n",
       "      <td>522</td>\n",
       "      <td>0.012245</td>\n",
       "      <td>980.0</td>\n",
       "      <td>NK cells</td>\n",
       "      <td>False</td>\n",
       "    </tr>\n",
       "    <tr>\n",
       "      <th>...</th>\n",
       "      <td>...</td>\n",
       "      <td>...</td>\n",
       "      <td>...</td>\n",
       "      <td>...</td>\n",
       "      <td>...</td>\n",
       "    </tr>\n",
       "    <tr>\n",
       "      <th>TTTCGAACTCTCAT-1</th>\n",
       "      <td>1155</td>\n",
       "      <td>0.021104</td>\n",
       "      <td>3459.0</td>\n",
       "      <td>CD14+ Monocytes</td>\n",
       "      <td>False</td>\n",
       "    </tr>\n",
       "    <tr>\n",
       "      <th>TTTCTACTGAGGCA-1</th>\n",
       "      <td>1227</td>\n",
       "      <td>0.009294</td>\n",
       "      <td>3443.0</td>\n",
       "      <td>B cells</td>\n",
       "      <td>False</td>\n",
       "    </tr>\n",
       "    <tr>\n",
       "      <th>TTTCTACTTCCTCG-1</th>\n",
       "      <td>622</td>\n",
       "      <td>0.021971</td>\n",
       "      <td>1684.0</td>\n",
       "      <td>B cells</td>\n",
       "      <td>False</td>\n",
       "    </tr>\n",
       "    <tr>\n",
       "      <th>TTTGCATGAGAGGC-1</th>\n",
       "      <td>454</td>\n",
       "      <td>0.020548</td>\n",
       "      <td>1022.0</td>\n",
       "      <td>B cells</td>\n",
       "      <td>False</td>\n",
       "    </tr>\n",
       "    <tr>\n",
       "      <th>TTTGCATGCCTCAC-1</th>\n",
       "      <td>724</td>\n",
       "      <td>0.008065</td>\n",
       "      <td>1984.0</td>\n",
       "      <td>CD4 T cells</td>\n",
       "      <td>False</td>\n",
       "    </tr>\n",
       "  </tbody>\n",
       "</table>\n",
       "<p>2638 rows × 5 columns</p>\n",
       "</div>"
      ],
      "text/plain": [
       "                  n_genes  percent_mito  n_counts          louvain  \\\n",
       "index                                                                \n",
       "AAACATACAACCAC-1      781      0.030178    2419.0      CD4 T cells   \n",
       "AAACATTGAGCTAC-1     1352      0.037936    4903.0          B cells   \n",
       "AAACATTGATCAGC-1     1131      0.008897    3147.0      CD4 T cells   \n",
       "AAACCGTGCTTCCG-1      960      0.017431    2639.0  CD14+ Monocytes   \n",
       "AAACCGTGTATGCG-1      522      0.012245     980.0         NK cells   \n",
       "...                   ...           ...       ...              ...   \n",
       "TTTCGAACTCTCAT-1     1155      0.021104    3459.0  CD14+ Monocytes   \n",
       "TTTCTACTGAGGCA-1     1227      0.009294    3443.0          B cells   \n",
       "TTTCTACTTCCTCG-1      622      0.021971    1684.0          B cells   \n",
       "TTTGCATGAGAGGC-1      454      0.020548    1022.0          B cells   \n",
       "TTTGCATGCCTCAC-1      724      0.008065    1984.0      CD4 T cells   \n",
       "\n",
       "                  is_low_quality  \n",
       "index                             \n",
       "AAACATACAACCAC-1            True  \n",
       "AAACATTGAGCTAC-1            True  \n",
       "AAACATTGATCAGC-1           False  \n",
       "AAACCGTGCTTCCG-1           False  \n",
       "AAACCGTGTATGCG-1           False  \n",
       "...                          ...  \n",
       "TTTCGAACTCTCAT-1           False  \n",
       "TTTCTACTGAGGCA-1           False  \n",
       "TTTCTACTTCCTCG-1           False  \n",
       "TTTGCATGAGAGGC-1           False  \n",
       "TTTGCATGCCTCAC-1           False  \n",
       "\n",
       "[2638 rows x 5 columns]"
      ]
     },
     "execution_count": 15,
     "metadata": {},
     "output_type": "execute_result"
    }
   ],
   "source": [
    "adata.obs[\"is_low_quality\"] = adata.obs[\"percent_mito\"] > 0.03\n",
    "adata.obs  # to inspect the updated table"
   ]
  },
  {
   "cell_type": "markdown",
   "id": "8c528080-cec9-4139-bb53-1c42c2cba548",
   "metadata": {},
   "source": [
    "The gene annotations in the `var` data frame work in the same way: Here, each row is a gene and in this example, the gene name is used as index."
   ]
  },
  {
   "cell_type": "code",
   "execution_count": 16,
   "id": "0dd8e0d9-ba21-447c-bd7e-7a014967f306",
   "metadata": {},
   "outputs": [
    {
     "data": {
      "text/html": [
       "<div>\n",
       "<style scoped>\n",
       "    .dataframe tbody tr th:only-of-type {\n",
       "        vertical-align: middle;\n",
       "    }\n",
       "\n",
       "    .dataframe tbody tr th {\n",
       "        vertical-align: top;\n",
       "    }\n",
       "\n",
       "    .dataframe thead th {\n",
       "        text-align: right;\n",
       "    }\n",
       "</style>\n",
       "<table border=\"1\" class=\"dataframe\">\n",
       "  <thead>\n",
       "    <tr style=\"text-align: right;\">\n",
       "      <th></th>\n",
       "      <th>n_cells</th>\n",
       "    </tr>\n",
       "    <tr>\n",
       "      <th>index</th>\n",
       "      <th></th>\n",
       "    </tr>\n",
       "  </thead>\n",
       "  <tbody>\n",
       "    <tr>\n",
       "      <th>AL627309.1</th>\n",
       "      <td>9</td>\n",
       "    </tr>\n",
       "    <tr>\n",
       "      <th>AP006222.2</th>\n",
       "      <td>3</td>\n",
       "    </tr>\n",
       "    <tr>\n",
       "      <th>RP11-206L10.2</th>\n",
       "      <td>5</td>\n",
       "    </tr>\n",
       "    <tr>\n",
       "      <th>RP11-206L10.9</th>\n",
       "      <td>3</td>\n",
       "    </tr>\n",
       "    <tr>\n",
       "      <th>LINC00115</th>\n",
       "      <td>18</td>\n",
       "    </tr>\n",
       "    <tr>\n",
       "      <th>...</th>\n",
       "      <td>...</td>\n",
       "    </tr>\n",
       "    <tr>\n",
       "      <th>AC145212.1</th>\n",
       "      <td>16</td>\n",
       "    </tr>\n",
       "    <tr>\n",
       "      <th>AL592183.1</th>\n",
       "      <td>323</td>\n",
       "    </tr>\n",
       "    <tr>\n",
       "      <th>AL354822.1</th>\n",
       "      <td>8</td>\n",
       "    </tr>\n",
       "    <tr>\n",
       "      <th>PNRC2-1</th>\n",
       "      <td>110</td>\n",
       "    </tr>\n",
       "    <tr>\n",
       "      <th>SRSF10-1</th>\n",
       "      <td>69</td>\n",
       "    </tr>\n",
       "  </tbody>\n",
       "</table>\n",
       "<p>13714 rows × 1 columns</p>\n",
       "</div>"
      ],
      "text/plain": [
       "               n_cells\n",
       "index                 \n",
       "AL627309.1           9\n",
       "AP006222.2           3\n",
       "RP11-206L10.2        5\n",
       "RP11-206L10.9        3\n",
       "LINC00115           18\n",
       "...                ...\n",
       "AC145212.1          16\n",
       "AL592183.1         323\n",
       "AL354822.1           8\n",
       "PNRC2-1            110\n",
       "SRSF10-1            69\n",
       "\n",
       "[13714 rows x 1 columns]"
      ]
     },
     "execution_count": 16,
     "metadata": {},
     "output_type": "execute_result"
    }
   ],
   "source": [
    "adata.var"
   ]
  },
  {
   "cell_type": "markdown",
   "id": "874ab451-d2bd-4854-89da-d6a68a9b808d",
   "metadata": {},
   "source": [
    "If you want to learn how to interact with the `obs` and `var` data frames in more advanced ways, you can have a look at these [Pandas tutorials](https://pandas.pydata.org/docs/getting_started/intro_tutorials/index.html)."
   ]
  },
  {
   "cell_type": "markdown",
   "id": "909c91fa-abc2-4aae-8fcb-6d67d5cb419b",
   "metadata": {
    "tags": []
   },
   "source": [
    "### Index cells and genes with `obs_names` and `var_names`"
   ]
  },
  {
   "cell_type": "markdown",
   "id": "ea0479d4-5ee9-4166-90c0-961f68bd8a96",
   "metadata": {},
   "source": [
    "One important aspect of `AnnData` objects is the shared indexing. Consider the case of cell annotations - no matter if we look at a cells raw counts, its cluster assignments or its k-nearest neighbors in the PCA space: we always want to be able to refer to the same cell with the same \"name\". That is why all cell annotations share the same index, the `obs_names`. Similarly, we have `var_names` indexing our genes and their annotations. These annotations should be unique and many functions in the scverse ecosystem will raise warnings if this is not the case."
   ]
  },
  {
   "cell_type": "markdown",
   "id": "2f1b63d8-065f-43f9-beae-daca95119234",
   "metadata": {},
   "source": [
    "![Shared indexing for cells and genes](img/names.png \"Shared indexing for cells and genes\")"
   ]
  },
  {
   "cell_type": "markdown",
   "id": "931cc165-c1b1-4b98-8577-1be2d2f18fad",
   "metadata": {},
   "source": [
    "For the cells in our example data, the cell barcode from sequencing is used as index."
   ]
  },
  {
   "cell_type": "code",
   "execution_count": 17,
   "id": "0503e978-afce-438c-bbd9-94e1b695de9e",
   "metadata": {},
   "outputs": [
    {
     "data": {
      "text/plain": [
       "Index(['AAACATACAACCAC-1', 'AAACATTGAGCTAC-1', 'AAACATTGATCAGC-1',\n",
       "       'AAACCGTGCTTCCG-1', 'AAACCGTGTATGCG-1', 'AAACGCACTGGTAC-1',\n",
       "       'AAACGCTGACCAGT-1', 'AAACGCTGGTTCTT-1', 'AAACGCTGTAGCCA-1',\n",
       "       'AAACGCTGTTTCTG-1',\n",
       "       ...\n",
       "       'TTTCAGTGTCACGA-1', 'TTTCAGTGTCTATC-1', 'TTTCAGTGTGCAGT-1',\n",
       "       'TTTCCAGAGGTGAG-1', 'TTTCGAACACCTGA-1', 'TTTCGAACTCTCAT-1',\n",
       "       'TTTCTACTGAGGCA-1', 'TTTCTACTTCCTCG-1', 'TTTGCATGAGAGGC-1',\n",
       "       'TTTGCATGCCTCAC-1'],\n",
       "      dtype='object', name='index', length=2638)"
      ]
     },
     "execution_count": 17,
     "metadata": {},
     "output_type": "execute_result"
    }
   ],
   "source": [
    "adata.obs_names"
   ]
  },
  {
   "cell_type": "markdown",
   "id": "e4b9305a-7a2c-4051-8121-7d0e482a039f",
   "metadata": {},
   "source": [
    "Genes are indexed by gene name in this example:"
   ]
  },
  {
   "cell_type": "code",
   "execution_count": 18,
   "id": "2a752130-d613-4e3b-8369-e5ea88ad3497",
   "metadata": {},
   "outputs": [
    {
     "data": {
      "text/plain": [
       "Index(['AL627309.1', 'AP006222.2', 'RP11-206L10.2', 'RP11-206L10.9',\n",
       "       'LINC00115', 'NOC2L', 'KLHL17', 'PLEKHN1', 'RP11-54O7.17', 'HES4',\n",
       "       ...\n",
       "       'MT-ND4L', 'MT-ND4', 'MT-ND5', 'MT-ND6', 'MT-CYB', 'AC145212.1',\n",
       "       'AL592183.1', 'AL354822.1', 'PNRC2-1', 'SRSF10-1'],\n",
       "      dtype='object', name='index', length=13714)"
      ]
     },
     "execution_count": 18,
     "metadata": {},
     "output_type": "execute_result"
    }
   ],
   "source": [
    "adata.var_names"
   ]
  },
  {
   "cell_type": "markdown",
   "id": "487b004e-5ada-4e8a-90db-64001ecae705",
   "metadata": {
    "tags": []
   },
   "source": [
    "### Multidimensional annotations for cells and genes in `obsm` and `varm`"
   ]
  },
  {
   "cell_type": "code",
   "execution_count": 19,
   "id": "611fc307-305c-4ce1-a17e-fc438032a2f1",
   "metadata": {},
   "outputs": [
    {
     "data": {
      "text/plain": [
       "dict_keys(['draw_graph', 'louvain', 'louvain_colors', 'neighbors', 'pca', 'rank_genes_groups'])"
      ]
     },
     "execution_count": 19,
     "metadata": {},
     "output_type": "execute_result"
    }
   ],
   "source": [
    "adata.uns.keys()"
   ]
  },
  {
   "cell_type": "markdown",
   "id": "404b6e74-5453-4421-bfcb-83a6f3cf536d",
   "metadata": {},
   "source": [
    "Sometimes, the simple, one-dimensional annotations in `obs` and `var` are not enough to store the results of our analysis. \n",
    "\n",
    "For example, if we embed our data with t-SNE or UMAP, we usually obtain a two-dimensional vector of embedding coordinates for each cell. For a PCA with, say, 50 components, we would even get a 50-dimensional vector per cell. To store these multidimensional representations of the cells, `AnnData` objects provide the `obsm` object. "
   ]
  },
  {
   "cell_type": "markdown",
   "id": "2931c3ca-e031-4ffd-a8b9-161d9292a85a",
   "metadata": {},
   "source": [
    "![Multidimensional information for cells and genes in `obsm` and `varm`](img/obsmvarm.png \"Multidimensional information for cells and genes in `obsm` and `varm`\")"
   ]
  },
  {
   "cell_type": "markdown",
   "id": "9abdc364-2c80-4503-a226-29093109966d",
   "metadata": {},
   "source": [
    "For multidimensional information about genes, we have `varm`, which works similarly and could e.g. hold the PCA loadings for each gene."
   ]
  },
  {
   "cell_type": "markdown",
   "id": "b0fa56b3-ad3d-43dc-8569-fbb501076a9b",
   "metadata": {},
   "source": [
    "Now, let's have a look at our example `adata.obsm`:"
   ]
  },
  {
   "cell_type": "code",
   "execution_count": 20,
   "id": "ad7ed9fc-f209-4def-9b22-0b87d18219e5",
   "metadata": {},
   "outputs": [
    {
     "data": {
      "text/plain": [
       "AxisArrays with keys: X_pca, X_tsne, X_umap, X_draw_graph_fr"
      ]
     },
     "execution_count": 20,
     "metadata": {},
     "output_type": "execute_result"
    }
   ],
   "source": [
    "adata.obsm"
   ]
  },
  {
   "cell_type": "markdown",
   "id": "9fe68dff-b895-4609-8ad8-b87598029fb1",
   "metadata": {},
   "source": [
    "In our example, it contains representation of our cells after PCA, t-SNE, UMAP and some graph method. Technically, these four representations are stored in a [Python dictionary](https://docs.python.org/3/tutorial/datastructures.html#dictionaries) with separate keys.\n",
    "\n",
    "We can look at the data shape for each of them:"
   ]
  },
  {
   "cell_type": "code",
   "execution_count": 21,
   "id": "7ae67579-e51d-467c-925c-4183a214902b",
   "metadata": {},
   "outputs": [
    {
     "name": "stdout",
     "output_type": "stream",
     "text": [
      "X_pca\t(2638, 50)\n",
      "X_tsne\t(2638, 2)\n",
      "X_umap\t(2638, 2)\n",
      "X_draw_graph_fr\t(2638, 2)\n"
     ]
    }
   ],
   "source": [
    "for key in adata.obsm_keys():\n",
    "    print(key, adata.obsm[key].shape, sep=\"\\t\")"
   ]
  },
  {
   "cell_type": "markdown",
   "id": "fbf64ff5-7465-4b5e-bd4b-5e231d6f185d",
   "metadata": {},
   "source": [
    "The numbers of observations always has to be the same as in `adata.X`, but the number of dimensions can vary.\n",
    "\n",
    "Also, let's make a simple plot of the the first two PCs from PCA and the UMAP / t-SNE embeddings, and highlight the B cells:"
   ]
  },
  {
   "cell_type": "code",
   "execution_count": 22,
   "id": "f2e35c19-4133-4598-a8cc-bd8b9461ad35",
   "metadata": {},
   "outputs": [
    {
     "data": {
      "image/png": "[encoded data removed]",
      "text/plain": [
       "<Figure size 1200x400 with 3 Axes>"
      ]
     },
     "metadata": {},
     "output_type": "display_data"
    }
   ],
   "source": [
    "plt.figure(figsize=(12, 4))\n",
    "\n",
    "# PCA\n",
    "plt.subplot(1, 3, 1)\n",
    "plt.scatter(\n",
    "    x=adata.obsm[\"X_pca\"][:, 0],  # PCA dim 1\n",
    "    y=adata.obsm[\"X_pca\"][:, 1],  # PCA dim 2\n",
    "    c=adata.obs[\"louvain\"] == \"B cells\",  # B cell flag\n",
    "    s=3,\n",
    "    linewidth=0,\n",
    "    cmap=\"coolwarm\",\n",
    ")\n",
    "plt.title(\"PCA\")\n",
    "plt.axis(\"off\")\n",
    "plt.gca().set_aspect(\"equal\")\n",
    "\n",
    "# t-SNE\n",
    "plt.subplot(1, 3, 2)\n",
    "plt.scatter(\n",
    "    x=adata.obsm[\"X_tsne\"][:, 0],  # t-SNE dim 1\n",
    "    y=adata.obsm[\"X_tsne\"][:, 1],  # t-SNE dim 2\n",
    "    c=adata.obs[\"louvain\"] == \"B cells\",  # B cell flag\n",
    "    s=3,\n",
    "    linewidth=0,\n",
    "    cmap=\"coolwarm\",\n",
    ")\n",
    "plt.title(\"t-SNE\")\n",
    "plt.axis(\"off\")\n",
    "plt.gca().set_aspect(\"equal\")\n",
    "\n",
    "# UMAP\n",
    "plt.subplot(1, 3, 3)\n",
    "plt.scatter(\n",
    "    x=adata.obsm[\"X_umap\"][:, 0],  # UMAP dim 1\n",
    "    y=adata.obsm[\"X_umap\"][:, 1],  # UMAP dim 2\n",
    "    c=adata.obs[\"louvain\"] == \"B cells\",  # B cell flag\n",
    "    s=3,\n",
    "    linewidth=0,\n",
    "    cmap=\"coolwarm\",\n",
    ")\n",
    "plt.title(\"UMAP\")\n",
    "plt.axis(\"off\")\n",
    "plt.gca().set_aspect(\"equal\")"
   ]
  },
  {
   "cell_type": "markdown",
   "id": "22f365c6-02d8-463a-bd38-283447e6355f",
   "metadata": {},
   "source": [
    "Note: There is a function in Scanpy to produce such [embedding scatter plots](https://scanpy.readthedocs.io/en/stable/generated/scanpy.pl.embedding.html) automatically. We show the manual way here just to illustrate how the embeddings are stored in the `AnnData` object."
   ]
  },
  {
   "cell_type": "markdown",
   "id": "2d8da89c-c86a-41f5-b7ae-e9f8d6098d23",
   "metadata": {},
   "source": [
    "### Annotations for cell-cell and gene-gene pairs in `obsp` and `varp`"
   ]
  },
  {
   "cell_type": "code",
   "execution_count": 23,
   "id": "c550e596-8af1-498b-a36d-76e819bf5598",
   "metadata": {},
   "outputs": [
    {
     "data": {
      "image/png": "[encoded data removed]",
      "text/plain": [
       "<Figure size 640x480 with 1 Axes>"
      ]
     },
     "metadata": {},
     "output_type": "display_data"
    }
   ],
   "source": [
    "plt.hist(adata.obsp[\"distances\"].A.flatten())\n",
    "plt.yscale(\"log\")"
   ]
  },
  {
   "cell_type": "code",
   "execution_count": 24,
   "id": "a8bb42e7-fe4c-4b63-a575-254f4b6952aa",
   "metadata": {},
   "outputs": [
    {
     "data": {
      "image/png": "[encoded data removed]",
      "text/plain": [
       "<Figure size 640x480 with 1 Axes>"
      ]
     },
     "metadata": {},
     "output_type": "display_data"
    }
   ],
   "source": [
    "plt.hist(adata.obsp[\"connectivities\"].A.flatten())\n",
    "plt.yscale(\"log\")"
   ]
  },
  {
   "cell_type": "code",
   "execution_count": 25,
   "id": "4681bc41-ec01-44ee-93fb-5f93685e9f38",
   "metadata": {},
   "outputs": [
    {
     "ename": "KeyError",
     "evalue": "'rerun_distances'",
     "output_type": "error",
     "traceback": [
      "\u001b[0;31m---------------------------------------------------------------------------\u001b[0m",
      "\u001b[0;31mKeyError\u001b[0m                                  Traceback (most recent call last)",
      "Cell \u001b[0;32mIn[25], line 1\u001b[0m\n\u001b[0;32m----> 1\u001b[0m np\u001b[38;5;241m.\u001b[39msum(\u001b[43madata\u001b[49m\u001b[38;5;241;43m.\u001b[39;49m\u001b[43mobsp\u001b[49m\u001b[43m[\u001b[49m\u001b[38;5;124;43m'\u001b[39;49m\u001b[38;5;124;43mrerun_distances\u001b[39;49m\u001b[38;5;124;43m'\u001b[39;49m\u001b[43m]\u001b[49m\u001b[38;5;241m.\u001b[39mA \u001b[38;5;241m>\u001b[39m \u001b[38;5;241m0\u001b[39m,axis\u001b[38;5;241m=\u001b[39m\u001b[38;5;241m1\u001b[39m)\n",
      "File \u001b[0;32m~/miniconda3/envs/myenv_test/lib/python3.10/site-packages/anndata/_core/aligned_mapping.py:148\u001b[0m, in \u001b[0;36mAlignedActualMixin.__getitem__\u001b[0;34m(self, key)\u001b[0m\n\u001b[1;32m    147\u001b[0m \u001b[38;5;28;01mdef\u001b[39;00m \u001b[38;5;21m__getitem__\u001b[39m(\u001b[38;5;28mself\u001b[39m, key: \u001b[38;5;28mstr\u001b[39m) \u001b[38;5;241m-\u001b[39m\u001b[38;5;241m>\u001b[39m V:\n\u001b[0;32m--> 148\u001b[0m     \u001b[38;5;28;01mreturn\u001b[39;00m \u001b[38;5;28;43mself\u001b[39;49m\u001b[38;5;241;43m.\u001b[39;49m\u001b[43m_data\u001b[49m\u001b[43m[\u001b[49m\u001b[43mkey\u001b[49m\u001b[43m]\u001b[49m\n",
      "\u001b[0;31mKeyError\u001b[0m: 'rerun_distances'"
     ]
    }
   ],
   "source": [
    "np.sum(adata.obsp[\"rerun_distances\"].A > 0, axis=1)"
   ]
  },
  {
   "cell_type": "code",
   "execution_count": null,
   "id": "da1814c4-caf5-4d74-b59b-943776d69c9b",
   "metadata": {},
   "outputs": [],
   "source": [
    "np.sum(adata.obsp[\"connectivities\"].A > 0, axis=0)"
   ]
  },
  {
   "cell_type": "code",
   "execution_count": null,
   "id": "fc9ce658-b34c-4bc5-9330-70da148a47ed",
   "metadata": {},
   "outputs": [],
   "source": [
    "adata.obsp[\"neighbors\"] = adata.obsp[\"distances\"] > 0"
   ]
  },
  {
   "cell_type": "code",
   "execution_count": null,
   "id": "e8d05400-744e-48af-8c93-af4ed2c79e65",
   "metadata": {},
   "outputs": [],
   "source": [
    "example_cell_neighbors"
   ]
  },
  {
   "cell_type": "code",
   "execution_count": null,
   "id": "4ad0d8c9-ce66-4721-8a86-c478d7cfa98b",
   "metadata": {},
   "outputs": [],
   "source": [
    "example_cell_id = 0\n",
    "example_cell_neighbors = adata.obsp[\"neighbors\"][example_cell_id, :].A.flatten()"
   ]
  },
  {
   "cell_type": "code",
   "execution_count": null,
   "id": "cc4c274b-dce8-45d0-99dc-c321923e7061",
   "metadata": {},
   "outputs": [],
   "source": [
    "adata[example_cell_id, :].obs"
   ]
  },
  {
   "cell_type": "code",
   "execution_count": null,
   "id": "494df144-05de-4187-b2a0-bc0785c3dcf0",
   "metadata": {},
   "outputs": [],
   "source": [
    "adata[example_cell_neighbors, :].obs"
   ]
  },
  {
   "cell_type": "code",
   "execution_count": null,
   "id": "e7500b9e-b1b0-41b1-9748-0fd1139d58ec",
   "metadata": {},
   "outputs": [],
   "source": [
    "plt.figure(figsize=(5, 5))\n",
    "\n",
    "# t-SNE\n",
    "tsne0 = adata.obsm[\"X_tsne\"][:, 0]\n",
    "tsne1 = adata.obsm[\"X_tsne\"][:, 1]\n",
    "plt.scatter(\n",
    "    x=tsne0,\n",
    "    y=tsne1,\n",
    "    s=3,\n",
    "    linewidth=0,\n",
    ")\n",
    "plt.scatter(x=tsne0[example_cell_id], y=tsne1[example_cell_id], s=50, linewidth=0, c=\"k\", marker=\"s\")\n",
    "plt.scatter(x=tsne0[example_cell_neighbors], y=tsne1[example_cell_neighbors], s=8, linewidth=0, c=\"tab:red\")\n",
    "\n",
    "\n",
    "plt.title(\"t-SNE\")\n",
    "plt.axis(\"off\")\n",
    "plt.gca().set_aspect(\"equal\")"
   ]
  },
  {
   "cell_type": "code",
   "execution_count": null,
   "id": "50647031-a1eb-4b67-b92b-3bd3b35513d2",
   "metadata": {},
   "outputs": [],
   "source": [
    "plt.figure(figsize=(14, 7))\n",
    "plt.subplot(1, 2, 1)\n",
    "plt.imshow(adata.obsp[\"distances\"].A[:50, :50])\n",
    "plt.subplot(1, 2, 2)\n",
    "plt.imshow(adata.obsp[\"connectivities\"].A[:50, :50])"
   ]
  },
  {
   "cell_type": "code",
   "execution_count": null,
   "id": "2c4e5274-cdd2-4a87-9c5f-9775cbc938ef",
   "metadata": {},
   "outputs": [],
   "source": []
  },
  {
   "cell_type": "code",
   "execution_count": null,
   "id": "5e6f6d90-832b-408d-82a0-413383b9f675",
   "metadata": {},
   "outputs": [],
   "source": [
    "plt.hist(adata.obsp[\"distances\"].A.flatten())\n",
    "plt.yscale(\"log\")"
   ]
  },
  {
   "cell_type": "markdown",
   "id": "b29c8f26-a378-43ac-8ac5-af02c5306b8f",
   "metadata": {},
   "source": [
    "Text here!"
   ]
  },
  {
   "cell_type": "markdown",
   "id": "3fabe768-88f4-492d-8264-265a846e8081",
   "metadata": {},
   "source": [
    "![Multidimensional information for cells and genes in `obsm` and `varm`](img/obspvarp.png \"Multidimensional information for cells and genes in `obsm` and `varm`\")"
   ]
  },
  {
   "cell_type": "markdown",
   "id": "0ef99638-b970-43b0-b3d2-8756c1dd3e2e",
   "metadata": {},
   "source": [
    "And here!"
   ]
  },
  {
   "cell_type": "code",
   "execution_count": null,
   "id": "53daf9ee-7890-49a7-854c-0c90bb4d8a48",
   "metadata": {},
   "outputs": [],
   "source": [
    "example = \"more code here\""
   ]
  },
  {
   "cell_type": "code",
   "execution_count": null,
   "id": "bbd0747b-1034-4e10-9c6a-76600b7657d0",
   "metadata": {},
   "outputs": [],
   "source": []
  },
  {
   "cell_type": "markdown",
   "id": "3fcca2de-7808-44b4-8698-867a97aaec05",
   "metadata": {},
   "source": [
    "### Unstructured annotations or general metadata in `uns`"
   ]
  },
  {
   "cell_type": "markdown",
   "id": "c71dfa36-2662-41ed-a250-d40752d04529",
   "metadata": {},
   "source": [
    "Text here!"
   ]
  },
  {
   "cell_type": "markdown",
   "id": "4fde7775-88f6-4fd6-a60b-7dfa512a6456",
   "metadata": {},
   "source": [
    "![Multidimensional information for cells and genes in `obsm` and `varm`](img/anndata_schema_full.png \"Multidimensional information for cells and genes in `obsm` and `varm`\")"
   ]
  },
  {
   "cell_type": "markdown",
   "id": "77214b66-1a13-4524-8766-02819eab6fc5",
   "metadata": {},
   "source": [
    "And here!"
   ]
  },
  {
   "cell_type": "code",
   "execution_count": null,
   "id": "7fb2aa81-db7b-430b-9599-a63bc555fc4c",
   "metadata": {},
   "outputs": [],
   "source": [
    "example = \"more code here\""
   ]
  },
  {
   "cell_type": "code",
   "execution_count": null,
   "id": "e0658bed-02e6-424e-a173-5ea0556ca559",
   "metadata": {},
   "outputs": [],
   "source": []
  },
  {
   "cell_type": "markdown",
   "id": "6fab3c9a-250e-4b6f-b91c-9d461e46b374",
   "metadata": {},
   "source": [
    "### Subsetting `AnnData` objects\n",
    "\n",
    "`AnnData` objects allow consistent subsetting of genes, cells or both.\n",
    "There are several options to subset:\n",
    " - by name index (=`var_names` and/or `obs_names`) - in our example that would be lists of gene names `['LYZ','TUBB1','MALAT1']` or cell barcodes `[AAACATACAACCAC-1', 'AAACATTGAGCTAC-1', 'AAACATTGATCAGC-1']`\n",
    " - by numerical index - e.g. `:10` or `0:10` for the first 10 gene/cell, `5:10` for the sixth to the tenth, or `[0,2,4]` for the first, third and fifth\n",
    " - by boolean index - e.g. our flag for low-quality cells `adata.obs['is_low_quality']` or an index to all cells in the B cell cluster as in  `adata.obs['louvain']=='B cells'`\n",
    " \n",
    "All of these index operations can be combined, and will automatically subset the active data in `adata.X`, all `layers`, and all annotation fields to the selected subset. For example, if we want to get the first five cells in the data for three specific genes we are interested in, `obs` and `var` will be subsetted"
   ]
  },
  {
   "cell_type": "code",
   "execution_count": null,
   "id": "617c35ee-dd0f-4bd0-85e2-eaef46a42997",
   "metadata": {},
   "outputs": [],
   "source": [
    "adata_small = adata[:5, [\"LYZ\", \"FOS\", \"MALAT1\"]]\n",
    "adata_small.shape"
   ]
  },
  {
   "cell_type": "code",
   "execution_count": null,
   "id": "e30ef45e-92c0-4282-8532-6d65e49de3c9",
   "metadata": {},
   "outputs": [],
   "source": [
    "# active data (log-normalized counts) after subsetting\n",
    "adata_small.X.A"
   ]
  },
  {
   "cell_type": "code",
   "execution_count": null,
   "id": "bcf5c64a-e04a-4ab8-a9a0-e5c6df10a6e6",
   "metadata": {},
   "outputs": [],
   "source": [
    "# raw data layer after subsetting\n",
    "adata_small.layers[\"raw\"].A"
   ]
  },
  {
   "cell_type": "code",
   "execution_count": null,
   "id": "1f4295f0-fe16-4f63-8f3d-95368d927daa",
   "metadata": {},
   "outputs": [],
   "source": [
    "# cell annotations after subsetting\n",
    "adata_small.obs"
   ]
  },
  {
   "cell_type": "code",
   "execution_count": null,
   "id": "84af3b9f-0fce-43ab-9e5e-848d8562a10d",
   "metadata": {},
   "outputs": [],
   "source": [
    "# gene annotations after subsetting\n",
    "adata_small.var"
   ]
  },
  {
   "cell_type": "markdown",
   "id": "8092917d-421e-415e-8e4c-906308fb1c4b",
   "metadata": {},
   "source": [
    "Lets also try some boolean indexing, where we keep the gene axis unchanged (using `:`), and keeping only the high quality cells (by inverting `adata.obs['is_low_quality']` with the \"NOT\" operator `~`)"
   ]
  },
  {
   "cell_type": "code",
   "execution_count": null,
   "id": "7bb3936b-f919-404c-ae84-ea3df44f2993",
   "metadata": {},
   "outputs": [],
   "source": [
    "adata_high_quality = adata[~adata.obs[\"is_low_quality\"], :]"
   ]
  },
  {
   "cell_type": "code",
   "execution_count": null,
   "id": "cfce12a5-7f7b-4879-98dd-f9213d118f6d",
   "metadata": {},
   "outputs": [],
   "source": [
    "# obs data frame after subsettings shows that the low-quality cells are gone\n",
    "adata_high_quality.obs"
   ]
  },
  {
   "cell_type": "markdown",
   "id": "f164a7c9-07bc-49b4-b07e-8496e6330d33",
   "metadata": {},
   "source": [
    "### Section on / link to  concat&merge tutorial?"
   ]
  },
  {
   "cell_type": "code",
   "execution_count": null,
   "id": "fc6996e9-df9b-41c1-a0e4-f6ce655f30c5",
   "metadata": {},
   "outputs": [],
   "source": []
  },
  {
   "cell_type": "markdown",
   "id": "00046b04-f7c6-471f-97cf-30720f8c54ca",
   "metadata": {
    "tags": []
   },
   "source": [
    "### Section on / link to  backed-mode tutorial?"
   ]
  },
  {
   "cell_type": "code",
   "execution_count": null,
   "id": "3f656cee-6d56-48c1-9850-5670c80c88c2",
   "metadata": {
    "tags": []
   },
   "outputs": [],
   "source": [
    "# there was a section on that in the old tutorial"
   ]
  },
  {
   "cell_type": "markdown",
   "id": "77fa1b9e-b9ac-4561-8498-7ac51c4f5f88",
   "metadata": {
    "tags": []
   },
   "source": [
    "### Section on .copy() and views-vs-copies?"
   ]
  },
  {
   "cell_type": "code",
   "execution_count": null,
   "id": "08892c28-f7f2-434d-8ed7-4a9835fe5a47",
   "metadata": {
    "tags": []
   },
   "outputs": [],
   "source": [
    "# there was one in the old tutorial"
   ]
  },
  {
   "cell_type": "markdown",
   "id": "98bbe8ff-f257-4661-94bf-4288f62d1458",
   "metadata": {},
   "source": [
    "### Section on read/write h5ad to disk"
   ]
  },
  {
   "cell_type": "code",
   "execution_count": null,
   "id": "d73a2557-6aa6-44e4-b5ba-7a1d0cf3ba2e",
   "metadata": {},
   "outputs": [],
   "source": [
    "# there was one in the old tutorial"
   ]
  },
  {
   "cell_type": "markdown",
   "id": "5b7298cd-6bd5-4491-b2df-5e4434d11594",
   "metadata": {},
   "source": [
    "## Exploring the `MuData` object"
   ]
  },
  {
   "cell_type": "code",
   "execution_count": null,
   "id": "b942e97b-6c82-4062-9e08-36b4cd57fc22",
   "metadata": {},
   "outputs": [],
   "source": []
  }
 ],
 "metadata": {
  "kernelspec": {
   "display_name": "Python 3 (ipykernel)",
   "language": "python",
   "name": "python3"
  },
  "language_info": {
   "codemirror_mode": {
    "name": "ipython",
    "version": 3
   },
   "file_extension": ".py",
   "mimetype": "text/x-python",
   "name": "python",
   "nbconvert_exporter": "python",
   "pygments_lexer": "ipython3",
   "version": "3.10.8"
  }
 },
 "nbformat": 4,
 "nbformat_minor": 5
}
